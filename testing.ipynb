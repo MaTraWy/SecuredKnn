{
 "cells": [
  {
   "attachments": {},
   "cell_type": "markdown",
   "metadata": {},
   "source": [
    "# Secured KNN Algorithm"
   ]
  },
  {
   "cell_type": "code",
   "execution_count": 1,
   "metadata": {},
   "outputs": [],
   "source": [
    "import os\n",
    "import sys\n",
    "module_path = os.path.abspath(os.path.join('..'))\n",
    "if module_path not in sys.path:\n",
    "    sys.path.append(module_path)\n",
    "import numpy as np\n",
    "from securedKnn import document,Person,Owner,Server,User"
   ]
  },
  {
   "attachments": {},
   "cell_type": "markdown",
   "metadata": {},
   "source": [
    "#### Defining the vocab and dcouments (txts)"
   ]
  },
  {
   "cell_type": "code",
   "execution_count": null,
   "metadata": {},
   "outputs": [],
   "source": [
    "\n",
    "vocab = [\"Deep Learning\",\"Security\",\"Machine Learning\",\"Mahmoud\"]\n",
    "\n",
    "txts = [ \"Deep Learning is one of the most demanded Security\",\n",
    "\"Mahmoud Now is doing his phd in univeristy of Alabama\", \"Mahmoud loves Machine Learning \"]\n"
   ]
  },
  {
   "attachments": {},
   "cell_type": "markdown",
   "metadata": {},
   "source": [
    "* load txt into a document object that contain the index of a given txt\n",
    "* TBD"
   ]
  },
  {
   "cell_type": "code",
   "execution_count": 3,
   "metadata": {},
   "outputs": [
    {
     "name": "stdout",
     "output_type": "stream",
     "text": [
      "S  [1 0 0 1]\n",
      "------Preparing the plain index for documents----\n",
      "Deep Learning is one of the most demanded Security [1. 1. 0. 0.]\n",
      "Mahmoud Now is doing his phd in univeristy of Alabama [0. 0. 0. 1.]\n",
      "Mahmoud loves Machine Learning  [0. 0. 1. 1.]\n",
      "---------------------------------------------------------------------- \n",
      "\n",
      "print the document index \n",
      "(4,) [ 0.09973826  1.          0.         89.        ]\n",
      "(4,) [  0.90026174   1.           0.         -89.        ]\n",
      "(4,) [59.         0.         0.         0.8661513]\n",
      "(4,) [-59.          0.          0.          0.1338487]\n",
      "(4,) [65.        0.        1.        0.107717]\n",
      "(4,) [-65.         0.         1.         0.892283]\n",
      "---------------------------------------------------------------------- \n",
      "\n",
      "print the enc document index \n",
      "(4,) [16701.69816779 10391.3727786   5498.98429535  7677.09973826]\n",
      "(4,) [ -3283.58795977  -7992.15759744  -5057.88979198 -10833.67199337]\n",
      "(4,) [ 574.10414187 6235.60739954 3591.96907802  133.48901183]\n",
      "(4,) [-2708.91374941 -9545.68591964 -2293.23677542 -6296.26891255]\n",
      "(4,) [ 586.03536229 6879.38745518 3997.46302009   98.26366213]\n",
      "(4,) [ -2894.09324606 -10340.90996414  -2340.24758609  -6811.46462519]\n",
      "Mahmoud Now is doing his phd in univeristy of Alabama 12018.32545630683\n",
      "Mahmoud loves Machine Learning  13022.514458426478\n",
      "Deep Learning is one of the most demanded Security 24305.147127672186\n"
     ]
    }
   ],
   "source": [
    "\n",
    "\n",
    "vocab = [\"Deep Learning\",\"Security\",\"Machine Learning\",\"Mahmoud\"]\n",
    "\n",
    "txts = [ \"Deep Learning is one of the most demanded Security\",\n",
    "\"Mahmoud Now is doing his phd in univeristy of Alabama\", \"Mahmoud loves Machine Learning \"]\n",
    "\n",
    "docuemnts = list()\n",
    "for txt in txts:\n",
    "    docuemnts.append(document(txt,len(vocab)))\n",
    "\n",
    "owner = Owner(vocab,docuemnts)\n",
    "\n",
    "print(\"S \",owner.s)\n",
    "owner.prepare_documents()\n",
    "print(\"------Preparing the plain index for documents----\")\n",
    "for doc in owner.documents:\n",
    "    print(doc.txt,doc.plain_index)\n",
    "print(\"--------------\"*5,\"\\n\")\n",
    "\n",
    "print(\"print the document index \")\n",
    "owner.create_documents_index()\n",
    "for doc in owner.documents:\n",
    "    #print(doc.rand_p_1,doc.rand_p_2)\n",
    "    print(doc.rand_p_1.shape , doc.rand_p_1)\n",
    "    print(doc.rand_p_2.shape , doc.rand_p_2)\n",
    "    #print(doc.index_1,doc.index_2)\n",
    "print(\"--------------\"*5,\"\\n\")\n",
    "print(\"print the enc document index \")\n",
    "for doc in owner.documents:\n",
    "    #print(doc.rand_p_1,doc.rand_p_2)\n",
    "    doc.create_final_index(owner.m1,owner.m2)\n",
    "    print(doc.index_1.shape , doc.index_1)\n",
    "    print(doc.index_2.shape , doc.index_2)\n",
    "    #print(doc.index_1,doc.index_2)\n",
    "\n",
    "user = User(vocab,np.linalg.inv(owner.m1),np.linalg.inv(owner.m2),owner.s)\n",
    "x = [0]\n",
    "user.setup_query_vocab(x)\n",
    "user.generate_query_index()\n",
    "\n",
    "user.create_final_index()\n",
    "\n",
    "server = Server(docuemnts)\n",
    "server.search(user.index_1,user.index_2)\n",
    "\n"
   ]
  },
  {
   "cell_type": "code",
   "execution_count": null,
   "metadata": {},
   "outputs": [],
   "source": []
  }
 ],
 "metadata": {
  "kernelspec": {
   "display_name": "base",
   "language": "python",
   "name": "python3"
  },
  "language_info": {
   "codemirror_mode": {
    "name": "ipython",
    "version": 3
   },
   "file_extension": ".py",
   "mimetype": "text/x-python",
   "name": "python",
   "nbconvert_exporter": "python",
   "pygments_lexer": "ipython3",
   "version": "3.9.13"
  },
  "orig_nbformat": 4,
  "vscode": {
   "interpreter": {
    "hash": "626ba166a01ddeabe71fc9fbd360bd0b5c54e2cac7a25d3f80b8939664e33da6"
   }
  }
 },
 "nbformat": 4,
 "nbformat_minor": 2
}
