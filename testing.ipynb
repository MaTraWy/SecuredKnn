{
 "cells": [
  {
   "attachments": {},
   "cell_type": "markdown",
   "metadata": {},
   "source": [
    "# Secured KNN Algorithm"
   ]
  },
  {
   "cell_type": "code",
   "execution_count": 1,
   "metadata": {},
   "outputs": [],
   "source": [
    "import os\n",
    "import sys\n",
    "module_path = os.path.abspath(os.path.join('..'))\n",
    "if module_path not in sys.path:\n",
    "    sys.path.append(module_path)\n",
    "import numpy as np\n",
    "from securedKnn import document,Person,Owner,Server,User"
   ]
  },
  {
   "attachments": {},
   "cell_type": "markdown",
   "metadata": {},
   "source": [
    "#### Defining the vocab and dcouments (txts)"
   ]
  },
  {
   "cell_type": "code",
   "execution_count": 2,
   "metadata": {},
   "outputs": [],
   "source": [
    "\n",
    "vocab = [\"Deep Learning\",\"Security\",\"Machine Learning\",\"Mahmoud\"]\n",
    "\n",
    "txts = [ \"Deep Learning is one of the most demanded Security\",\n",
    "\"Mahmoud Now is doing his phd in univeristy of Alabama\", \"Mahmoud loves Machine Learning \"]\n"
   ]
  },
  {
   "attachments": {},
   "cell_type": "markdown",
   "metadata": {},
   "source": [
    "#### Here this Process involving loading the txt into documets where we start to create the plain index."
   ]
  },
  {
   "cell_type": "code",
   "execution_count": 4,
   "metadata": {},
   "outputs": [
    {
     "name": "stdout",
     "output_type": "stream",
     "text": [
      "S  [1 0 1 0]\n",
      "------Preparing the plain index for documents----\n",
      "Deep Learning is one of the most demanded Security [1. 1. 0. 0.]\n",
      "Mahmoud Now is doing his phd in univeristy of Alabama [0. 0. 0. 1.]\n",
      "Mahmoud loves Machine Learning  [0. 0. 1. 1.]\n",
      "---------------------------------------------------------------------- \n",
      "\n",
      "print the document index \n",
      "(4,) [0.34538392 1.         5.         0.        ]\n",
      "(4,) [ 0.65461608  1.         -5.          0.        ]\n",
      "(4,) [110.   0.  52.   1.]\n",
      "(4,) [-110.    0.  -52.    1.]\n",
      "(4,) [4.50000000e+01 0.00000000e+00 3.22560758e-02 1.00000000e+00]\n",
      "(4,) [-45.           0.           0.96774392   1.        ]\n",
      "---------------------------------------------------------------------- \n",
      "\n",
      "print the enc document index \n",
      "(4,) [ 452.48610648  649.38601591 1002.59067728  118.59844621]\n",
      "(4,) [ -99.28144511 -263.86764215 -625.69076784 -186.1568562 ]\n",
      "(4,) [ 9999. 26131. 23382.  3252.]\n",
      "(4,) [-17304. -12263.  -8586. -14912.]\n",
      "(4,) [3188.48377949 8999.64499822 6123.38676466 1094.45158506]\n",
      "(4,) [-5839.67731594 -2974.8062786    230.71000356 -4222.70951037]\n",
      "---------------------\n",
      "[1. 1. 1. 0.]\n",
      "Mahmoud Now is doing his phd in univeristy of Alabama -2.2737367544323206e-12\n",
      "Mahmoud loves Machine Learning  0.9999999999997726\n",
      "Deep Learning is one of the most demanded Security 2.0\n"
     ]
    }
   ],
   "source": [
    "docuemnts = list()\n",
    "for txt in txts:\n",
    "    docuemnts.append(document(txt,len(vocab)))\n",
    "\n",
    "owner = Owner(vocab,docuemnts)\n",
    "\n",
    "print(\"S \",owner.s)\n",
    "owner.prepare_documents()\n",
    "print(\"------Preparing the plain index for documents----\")\n",
    "for doc in owner.documents:\n",
    "    print(doc.txt,doc.plain_index)\n",
    "print(\"--------------\"*5,\"\\n\")\n",
    "\n",
    "print(\"print the document index \")\n",
    "owner.create_documents_index()\n",
    "for doc in owner.documents:\n",
    "    #print(doc.rand_p_1,doc.rand_p_2)\n",
    "    print(doc.rand_p_1.shape , doc.rand_p_1)\n",
    "    print(doc.rand_p_2.shape , doc.rand_p_2)\n",
    "    #print(doc.index_1,doc.index_2)\n",
    "print(\"--------------\"*5,\"\\n\")\n",
    "print(\"print the enc document index \")\n",
    "for doc in owner.documents:\n",
    "    #print(doc.rand_p_1,doc.rand_p_2)\n",
    "    doc.create_final_index(owner.m1,owner.m2)\n",
    "    print(doc.index_1.shape , doc.index_1)\n",
    "    print(doc.index_2.shape , doc.index_2)\n",
    "    #print(doc.index_1,doc.index_2)\n",
    "\n",
    "\n",
    "\n",
    "\n",
    "\n",
    "user = User(vocab,np.linalg.inv(owner.m1),np.linalg.inv(owner.m2),owner.s)\n",
    "x = [0,1,2]\n",
    "user.setup_query_vocab(x)\n",
    "print(\"-------\"*3)\n",
    "print(user.query_voab_index)\n",
    "user.generate_query_index()\n",
    "\n",
    "user.create_final_index()\n",
    "\n",
    "server = Server(docuemnts)\n",
    "server.search(user.index_1,user.index_2)\n",
    "\n"
   ]
  },
  {
   "cell_type": "code",
   "execution_count": null,
   "metadata": {},
   "outputs": [],
   "source": []
  }
 ],
 "metadata": {
  "kernelspec": {
   "display_name": "base",
   "language": "python",
   "name": "python3"
  },
  "language_info": {
   "codemirror_mode": {
    "name": "ipython",
    "version": 3
   },
   "file_extension": ".py",
   "mimetype": "text/x-python",
   "name": "python",
   "nbconvert_exporter": "python",
   "pygments_lexer": "ipython3",
   "version": "3.9.13"
  },
  "orig_nbformat": 4,
  "vscode": {
   "interpreter": {
    "hash": "626ba166a01ddeabe71fc9fbd360bd0b5c54e2cac7a25d3f80b8939664e33da6"
   }
  }
 },
 "nbformat": 4,
 "nbformat_minor": 2
}
