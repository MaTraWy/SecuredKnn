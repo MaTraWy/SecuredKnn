{
 "cells": [
  {
   "cell_type": "code",
   "execution_count": 1,
   "metadata": {},
   "outputs": [],
   "source": [
    "import numpy as np"
   ]
  },
  {
   "cell_type": "code",
   "execution_count": null,
   "metadata": {},
   "outputs": [],
   "source": [
    "class Person:\n",
    "      def __init__(self,n,vocab) -> None:\n",
    "        self.m1 = np.random.randint(1,200,(n,n))\n",
    "        self.m2 = np.random.randint(1,200,(n,n))\n",
    "        self.s = np.array(n)\n",
    "        self.vocab = vocab\n",
    "\n",
    "class Owner(Person):\n",
    "    def __init__(self,n,vocab,documents) -> None:\n",
    "        Person.__init__(self,n,vocab)\n",
    "\n",
    "    def prepare_documents(self):\n",
    "        self.doc_vocab_pair = {}\n",
    "        "
   ]
  },
  {
   "cell_type": "code",
   "execution_count": 3,
   "metadata": {},
   "outputs": [],
   "source": [
    "vocab = [\"Deep Learning\",\"Security\",\"Machine Learning\",\"Mahmoud\"]\n",
    "\n",
    "docuemnts = [ \"Deep Learning is one of the most demanded technology now days and it has alot of application in Security\",\n",
    "\"Mahmoud Now is doing his phd in univeristy of Alabama\", \"Mahmoud loves Machine Learning \"]\n",
    "\n"
   ]
  },
  {
   "cell_type": "code",
   "execution_count": 5,
   "metadata": {},
   "outputs": [
    {
     "data": {
      "text/plain": [
       "array([5, 6])"
      ]
     },
     "execution_count": 5,
     "metadata": {},
     "output_type": "execute_result"
    }
   ],
   "source": [
    "mat"
   ]
  },
  {
   "cell_type": "code",
   "execution_count": null,
   "metadata": {},
   "outputs": [],
   "source": []
  }
 ],
 "metadata": {
  "kernelspec": {
   "display_name": "base",
   "language": "python",
   "name": "python3"
  },
  "language_info": {
   "codemirror_mode": {
    "name": "ipython",
    "version": 3
   },
   "file_extension": ".py",
   "mimetype": "text/x-python",
   "name": "python",
   "nbconvert_exporter": "python",
   "pygments_lexer": "ipython3",
   "version": "3.9.13 (main, Aug 25 2022, 23:51:50) [MSC v.1916 64 bit (AMD64)]"
  },
  "orig_nbformat": 4,
  "vscode": {
   "interpreter": {
    "hash": "626ba166a01ddeabe71fc9fbd360bd0b5c54e2cac7a25d3f80b8939664e33da6"
   }
  }
 },
 "nbformat": 4,
 "nbformat_minor": 2
}
